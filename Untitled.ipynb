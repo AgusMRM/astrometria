{
 "cells": [
  {
   "cell_type": "code",
   "execution_count": 158,
   "metadata": {},
   "outputs": [],
   "source": [
    "import numpy as np\n",
    "import matplotlib.pylab as plt\n",
    "import scipy.stats as sp"
   ]
  },
  {
   "cell_type": "code",
   "execution_count": 159,
   "metadata": {},
   "outputs": [],
   "source": [
    "t=np.loadtxt('LF_Blanton2001.csv',delimiter=',')"
   ]
  },
  {
   "cell_type": "code",
   "execution_count": 160,
   "metadata": {},
   "outputs": [],
   "source": [
    "Mdata=[]\n",
    "Ldata=[]\n",
    "for i in range(len(t)):\n",
    "    Mdata.append(t[i,0])\n",
    "    Ldata.append(t[i,1])    \n",
    "\n"
   ]
  },
  {
   "cell_type": "code",
   "execution_count": null,
   "metadata": {},
   "outputs": [],
   "source": []
  },
  {
   "cell_type": "code",
   "execution_count": 161,
   "metadata": {},
   "outputs": [
    {
     "data": {
      "text/plain": [
       "<matplotlib.legend.Legend at 0x7ff10b306c90>"
      ]
     },
     "execution_count": 161,
     "metadata": {},
     "output_type": "execute_result"
    },
    {
     "data": {
      "image/png": "[encoded data removed]",
      "text/plain": [
       "<Figure size 432x288 with 1 Axes>"
      ]
     },
     "metadata": {
      "needs_background": "light"
     },
     "output_type": "display_data"
    }
   ],
   "source": [
    "plt.plot(Mdata,Ldata,linestyle='none',marker='.',color='black',label='data')\n",
    "plt.semilogy()\n",
    "plt.xlabel('Magnitud')\n",
    "plt.ylabel('Luminosidad')\n",
    "\n",
    "\n",
    "fi=[]\n",
    "#MODELO\n",
    "Fi0=1.1              #EL TEORICO DICE 1.46\n",
    "M0=-20.83\n",
    "alfa=-1.2\n",
    "for M in np.linspace(-23,-16,20):\n",
    "    model=0.4*np.log10(Fi0)*(10**(-0.4*(M-M0)*(alfa+1)))*np.exp(-10**(-0.4*(M-M0)))\n",
    "    fi.append(model)\n",
    "    \n",
    "plt.plot(np.linspace(-23,-16,20),fi,label='ajuste',color='red',linestyle='--')\n",
    "plt.legend()\n",
    "    \n",
    "    "
   ]
  },
  {
   "cell_type": "code",
   "execution_count": null,
   "metadata": {},
   "outputs": [],
   "source": []
  },
  {
   "cell_type": "code",
   "execution_count": 134,
   "metadata": {},
   "outputs": [],
   "source": [
    "#L()=Product P(xi/M) = Productoria ~(1/2sigma)*e^(y-yo)/nose"
   ]
  },
  {
   "cell_type": "code",
   "execution_count": null,
   "metadata": {},
   "outputs": [],
   "source": []
  },
  {
   "cell_type": "code",
   "execution_count": 201,
   "metadata": {
    "scrolled": true
   },
   "outputs": [],
   "source": [
    "import numpy as np\n",
    "import scipy as sp\n",
    "import pandas as pd\n",
    "from copy import copy\n",
    "import matplotlib.pyplot as plt\n",
    "import matplotlib.patches as mpatches\n",
    "import seaborn as sns\n",
    "import functools\n",
    "\n",
    "import plotly\n",
    "import plotly.graph_objs as go\n",
    "import string\n",
    "import numpy as np\n",
    "import random\n",
    "\n",
    "from scipy.stats import norm\n",
    "from __future__ import print_function"
   ]
  },
  {
   "cell_type": "code",
   "execution_count": 202,
   "metadata": {},
   "outputs": [],
   "source": [
    "def MODEL(fi0,M0,alpha,M):\n",
    "    fi=0.4*np.log10(fi0)*(10**(-0.4*(M-M0)*(alpha+1)))*np.exp(-10**(-0.4*(M-M0)))\n",
    "    return(fi)"
   ]
  },
  {
   "cell_type": "code",
   "execution_count": 203,
   "metadata": {},
   "outputs": [],
   "source": [
    "def LIKELIHOOD(M, L, fi0, M0, alpha):\n",
    "    modely = MODEL(M, fi0, M0, alpha)\n",
    "    residuos = L - modely\n",
    "    ll = 1.\n",
    "    for r in residuos:\n",
    "        ll = ll * np.exp(-r**2)            #estoy asumiendo errores gausianos?\n",
    "    return(ll)"
   ]
  },
  {
   "cell_type": "code",
   "execution_count": 204,
   "metadata": {},
   "outputs": [],
   "source": [
    "#-------PRIOR-------  \n",
    "def step2d(x, y,z, xmin, xmax, ymin, ymax,zmin,zmax):\n",
    "    normalization = (xmax - xmin)*(ymax - ymin)*(zmax-zmin)\n",
    "    y = 1. * (x < xmax) * (x > xmin) * (y < ymax) * (y > ymin) * (z > zmin) * (z < zmax)\n",
    "    y = y / normalization\n",
    "    return(y)\n",
    "\n",
    "PRIOR = functools.partial(step2d, xmin=0.1, xmax=2., ymin=-22., ymax=-16., zmin=-2., zmax=-1.)\n"
   ]
  },
  {
   "cell_type": "code",
   "execution_count": 205,
   "metadata": {},
   "outputs": [
    {
     "data": {
      "text/plain": [
       "0.08771929824561404"
      ]
     },
     "execution_count": 205,
     "metadata": {},
     "output_type": "execute_result"
    }
   ],
   "source": [
    "PRIOR(1.,-20.,-1.5)"
   ]
  },
  {
   "cell_type": "code",
   "execution_count": 206,
   "metadata": {},
   "outputs": [],
   "source": [
    "def POSTERIOR(M, L, fi0, M0,alpha):    \n",
    "    posterior = LIKELIHOOD(M, L, fi0, M0, alpha) * PRIOR(fi0, M0, alpha)\n",
    "    return(posterior)\n",
    "\n"
   ]
  },
  {
   "cell_type": "code",
   "execution_count": 207,
   "metadata": {
    "scrolled": true
   },
   "outputs": [
    {
     "data": {
      "text/plain": [
       "array([0.15138314, 1.11372328, 2.00686192])"
      ]
     },
     "execution_count": 207,
     "metadata": {},
     "output_type": "execute_result"
    }
   ],
   "source": [
    "#np.random.multivariate_normal(mean=[0., 0.], cov=[[0.2, 0], [0, 0.2]])\n",
    "\n",
    "sig_fi0 = 2.\n",
    "sig_M0 = 2.\n",
    "sig_alpha= 2.\n",
    "PROPOSAL = functools.partial(np.random.multivariate_normal, cov = [[sig_fi0, 0, 0], [0, sig_M0,0], [0,0,sig_alpha]])\n",
    "# Por ejemplo, se usa así:\n",
    "PROPOSAL([2., 1., 3.])\n",
    "\n"
   ]
  },
  {
   "cell_type": "code",
   "execution_count": 222,
   "metadata": {},
   "outputs": [
    {
     "name": "stderr",
     "output_type": "stream",
     "text": [
      "/home/agustin/miniconda2/lib/python2.7/site-packages/ipykernel_launcher.py:2: RuntimeWarning:\n",
      "\n",
      "invalid value encountered in log10\n",
      "\n"
     ]
    },
    {
     "data": {
      "image/png": "[encoded data removed]",
      "text/plain": [
       "<Figure size 432x288 with 1 Axes>"
      ]
     },
     "metadata": {
      "needs_background": "light"
     },
     "output_type": "display_data"
    }
   ],
   "source": [
    "fi0_first = -5 # Valor inicial para a0\n",
    "M0_first = -40.  # Valor inicial para t0\n",
    "alpha_first = -1.1\n",
    "\n",
    "# veamos si estamos cerca:\n",
    "modelx = np.linspace(-23,-16,20)\n",
    "modely = MODEL(fi0_first, M0_first, alpha_first, modelx)\n",
    "plt.plot(modelx,modely, \"-\")\n",
    "plt.plot(Mdata,Ldata, \"*\")\n",
    "plt.semilogy()\n",
    "plt.show()"
   ]
  },
  {
   "cell_type": "code",
   "execution_count": 223,
   "metadata": {},
   "outputs": [],
   "source": [
    "# CARACTERISTICAS DE LA MCMC\n",
    "\n",
    "Nsteps = 1000 # Nro. de pasos\n",
    "Nburnt = 30\n",
    "\n",
    "# Set the proposal function\n",
    "sig_fi0 = 0.3\n",
    "sig_M0 = 0.8\n",
    "sig_alpha = 0.5\n",
    "PROPOSAL = functools.partial(np.random.multivariate_normal, cov = [[sig_fi0, 0, 0], [0, sig_M0, 0], [0, 0, sig_alpha]] )\n",
    "\n"
   ]
  },
  {
   "cell_type": "code",
   "execution_count": 224,
   "metadata": {},
   "outputs": [
    {
     "name": "stderr",
     "output_type": "stream",
     "text": [
      "/home/agustin/miniconda2/lib/python2.7/site-packages/ipykernel_launcher.py:2: RuntimeWarning:\n",
      "\n",
      "invalid value encountered in log10\n",
      "\n",
      "/home/agustin/miniconda2/lib/python2.7/site-packages/ipykernel_launcher.py:2: RuntimeWarning:\n",
      "\n",
      "overflow encountered in double_scalars\n",
      "\n"
     ]
    }
   ],
   "source": [
    "par_fi0 = []; par_M0 = []; par_alpha = []\n",
    "fi0_actual = fi0_first\n",
    "M0_actual = M0_first\n",
    "alpha_actual = alpha_first\n",
    "post_actual = POSTERIOR(Mdata, Ldata, fi0_actual, M0_actual, alpha_actual)\n",
    "\n",
    "par_fi0.append(fi0_actual)\n",
    "par_M0.append(M0_actual)\n",
    "par_alpha.append(alpha_actual)\n",
    "\n",
    "for _ in range(Nsteps):\n",
    "    \n",
    "    fi0_candid, M0_candid, alpha_candid = PROPOSAL([fi0_actual, M0_actual, alpha_actual])    \n",
    "    post_candid = POSTERIOR(Mdata, Mdata, fi0_candid, M0_candid, alpha_candid)\n",
    "    \n",
    "    p_accept = min(1., post_candid / post_actual)\n",
    "    accept = np.random.rand() < p_accept\n",
    "    if accept:\n",
    "        # Update position\n",
    "        fi0_actual = fi0_candid\n",
    "        M0_actual = M0_candid\n",
    "        alpha_actual = alpha_candid\n",
    "        post_actual = POSTERIOR(Mdata, Ldata, fi0_actual, M0_actual, alpha_actual)\n",
    "    \n",
    "    par_fi0.append(fi0_actual)\n",
    "    par_M0.append(M0_actual)\n",
    "    par_alpha.append(alpha_actual)\n",
    "    \n",
    "par_fi0_out = par_fi0[:Nburnt]\n",
    "par_M0_out = par_M0[:Nburnt]\n",
    "par_alpha_out = par_alpha[:Nburnt]\n",
    "par_fi0_brn = par_fi0[Nburnt:]\n",
    "par_M0_brn = par_M0[Nburnt:]\n",
    "par_alpha_brn = par_alpha[Nburnt:]\n",
    "\n",
    "fi0_est = np.mean(par_fi0)\n",
    "M0_est = np.mean(par_M0)\n",
    "alpha_est = np.mean(par_alpha)\n"
   ]
  },
  {
   "cell_type": "code",
   "execution_count": 225,
   "metadata": {},
   "outputs": [
    {
     "data": {
      "text/plain": [
       "[]"
      ]
     },
     "execution_count": 225,
     "metadata": {},
     "output_type": "execute_result"
    },
    {
     "data": {
      "image/png": "[encoded data removed]",
      "text/plain": [
       "<Figure size 432x288 with 1 Axes>"
      ]
     },
     "metadata": {
      "needs_background": "light"
     },
     "output_type": "display_data"
    }
   ],
   "source": [
    "plt.plot(par_fi0, par_M0, marker='.', markersize=0., lw = 0.2, color='cadetblue')\n",
    "plt.plot(par_fi0_out, par_M0_out, marker='.', markersize=0., lw = 0.2, color='red')\n",
    "plt.scatter(par_fi0_brn, par_M0_brn, color='cadetblue')\n",
    "plt.plot(fi0_first, M0_first, marker='o', markersize=8, color='k')\n",
    "plt.plot(Fi0, M0, marker='o', markersize=12, color='g')\n",
    "plt.plot(fi0_est, M0_est, marker='*', markersize=10, color='b')\n",
    "plt.xlabel('a0')\n",
    "plt.ylabel('t0')\n",
    "init = mpatches.Patch(color='k', label='valores iniciales')\n",
    "real = mpatches.Patch(color='g', label='valores reales')\n",
    "esti = mpatches.Patch(color='b', label='valores estimados')\n",
    "plt.legend(handles=[init, esti, real])\n",
    "plt.plot()\n",
    "\n"
   ]
  }
 ],
 "metadata": {
  "kernelspec": {
   "display_name": "Python 2",
   "language": "python",
   "name": "python2"
  },
  "language_info": {
   "codemirror_mode": {
    "name": "ipython",
    "version": 2
   },
   "file_extension": ".py",
   "mimetype": "text/x-python",
   "name": "python",
   "nbconvert_exporter": "python",
   "pygments_lexer": "ipython2",
   "version": "2.7.15"
  }
 },
 "nbformat": 4,
 "nbformat_minor": 2
}
