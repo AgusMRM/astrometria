{
 "cells": [
  {
   "cell_type": "code",
   "execution_count": 2,
   "metadata": {},
   "outputs": [],
   "source": [
    "import numpy as np\n",
    "import matplotlib.pylab as plt\n",
    "import scipy.stats as sp"
   ]
  },
  {
   "cell_type": "code",
   "execution_count": 3,
   "metadata": {},
   "outputs": [],
   "source": [
    "t=np.loadtxt('MyTable_agus_mrm.csv',skiprows=1,delimiter=',')\n",
    "ue=[]\n",
    "ge=[]\n",
    "re=[]\n",
    "gue=[]\n",
    "gre=[]\n",
    "\n",
    "us=[]\n",
    "gs=[]\n",
    "rs=[]\n",
    "gus=[]\n",
    "grs=[]"
   ]
  },
  {
   "cell_type": "code",
   "execution_count": 4,
   "metadata": {},
   "outputs": [],
   "source": [
    "for i in range(len(t)):\n",
    "    if t[i,7]>=.8:\n",
    "        ue.append(t[i,4])\n",
    "        ge.append(t[i,5])\n",
    "        re.append(t[i,6])\n",
    "    if t[i,8]>=.8:\n",
    "        us.append(t[i,4])\n",
    "        gs.append(t[i,5])\n",
    "        rs.append(t[i,6])"
   ]
  },
  {
   "cell_type": "code",
   "execution_count": 6,
   "metadata": {},
   "outputs": [],
   "source": [
    "for i in range(len(ue)):\n",
    "    gue.append(ge[i]-ue[i])\n",
    "    gre.append(ge[i]-re[i])\n",
    "for i in range(len(us)):    \n",
    "    gus.append(gs[i]-us[i])\n",
    "    grs.append(gs[i]-rs[i])"
   ]
  },
  {
   "cell_type": "code",
   "execution_count": 13,
   "metadata": {},
   "outputs": [
    {
     "data": {
      "text/plain": [
       "<function matplotlib.pyplot.show>"
      ]
     },
     "execution_count": 13,
     "metadata": {},
     "output_type": "execute_result"
    },
    {
     "data": {
      "image/png": "[encoded data removed]",
      "text/plain": [
       "<Figure size 432x288 with 1 Axes>"
      ]
     },
     "metadata": {
      "needs_background": "light"
     },
     "output_type": "display_data"
    }
   ],
   "source": [
    "#GALAXIAS ESPIRALES\n",
    "bins=np.linspace(-5,3,100)\n",
    "plt.hist(gue,bins,density='true',stacked='true',color='blue')\n",
    "plt.hist(gre,bins,density='true',stacked='true',color='red')\n",
    "plt.show"
   ]
  },
  {
   "cell_type": "code",
   "execution_count": 15,
   "metadata": {},
   "outputs": [
    {
     "data": {
      "text/plain": [
       "[<matplotlib.lines.Line2D at 0x7fdf390bdb50>]"
      ]
     },
     "execution_count": 15,
     "metadata": {},
     "output_type": "execute_result"
    },
    {
     "data": {
      "image/png": "[encoded data removed]",
      "text/plain": [
       "<Figure size 432x288 with 1 Axes>"
      ]
     },
     "metadata": {
      "needs_background": "light"
     },
     "output_type": "display_data"
    }
   ],
   "source": [
    "randgue=np.random.choice(gue,100)\n",
    "randgre=np.random.choice(gre,100)\n",
    "\n",
    "randgue=np.sort(randgue)\n",
    "randgre=np.sort(randgre)\n",
    "\n",
    "v2gre=np.arange(len(randgre))/float(len(randgre))\n",
    "v2gue=np.arange(len(randgue))/float(len(randgue))\n",
    "v2gre_=np.interp(randgre,randgue,v2gue)\n",
    "\n",
    "plt.plot(randgue,v2gue,linestyle='none',marker='.',color='red')\n",
    "plt.plot(randgre,v2gre,linestyle='none',marker='.',color='blue')\n"
   ]
  },
  {
   "cell_type": "code",
   "execution_count": 17,
   "metadata": {},
   "outputs": [
    {
     "data": {
      "text/plain": [
       "0.99"
      ]
     },
     "execution_count": 17,
     "metadata": {},
     "output_type": "execute_result"
    }
   ],
   "source": [
    "dist=(abs(v2gue-v2gre_))\n",
    "np.max(dist)"
   ]
  },
  {
   "cell_type": "code",
   "execution_count": 18,
   "metadata": {},
   "outputs": [
    {
     "data": {
      "text/plain": [
       "Ks_2sampResult(statistic=0.99, pvalue=1.2251433537012255e-44)"
      ]
     },
     "execution_count": 18,
     "metadata": {},
     "output_type": "execute_result"
    }
   ],
   "source": [
    "sp.ks_2samp(v2gre_,v2gue)"
   ]
  }
 ],
 "metadata": {
  "kernelspec": {
   "display_name": "Python 2",
   "language": "python",
   "name": "python2"
  },
  "language_info": {
   "codemirror_mode": {
    "name": "ipython",
    "version": 2
   },
   "file_extension": ".py",
   "mimetype": "text/x-python",
   "name": "python",
   "nbconvert_exporter": "python",
   "pygments_lexer": "ipython2",
   "version": "2.7.15"
  }
 },
 "nbformat": 4,
 "nbformat_minor": 2
}
