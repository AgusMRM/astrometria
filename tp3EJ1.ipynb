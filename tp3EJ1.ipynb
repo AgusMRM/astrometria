{
 "cells": [
  {
   "cell_type": "code",
   "execution_count": 62,
   "metadata": {},
   "outputs": [],
   "source": [
    "import numpy as np\n",
    "import matplotlib.pylab as plt\n",
    "import scipy.stats as sp"
   ]
  },
  {
   "cell_type": "code",
   "execution_count": 108,
   "metadata": {},
   "outputs": [],
   "source": [
    "t=np.loadtxt('MyTable_agus_mrm.csv',skiprows=1,delimiter=',')\n",
    "ue=[]\n",
    "ge=[]\n",
    "re=[]\n",
    "gue=[]\n",
    "gre=[]\n",
    "\n",
    "us=[]\n",
    "gs=[]\n",
    "rs=[]\n",
    "gus=[]\n",
    "grs=[]"
   ]
  },
  {
   "cell_type": "code",
   "execution_count": 109,
   "metadata": {},
   "outputs": [],
   "source": [
    "for i in range(len(t)):\n",
    "    if t[i,7]>=.8:\n",
    "        ue.append(t[i,4])\n",
    "        ge.append(t[i,5])\n",
    "        re.append(t[i,6])\n",
    "    if t[i,8]>=.8:\n",
    "        us.append(t[i,4])\n",
    "        gs.append(t[i,5])\n",
    "        rs.append(t[i,6])"
   ]
  },
  {
   "cell_type": "code",
   "execution_count": 110,
   "metadata": {},
   "outputs": [],
   "source": [
    "#ESTOY HACIENDO G-U\n",
    "\n",
    "for i in range(len(ue)):\n",
    "    gue.append(ge[i]-ue[i])\n",
    "    gre.append(ge[i]-re[i])\n",
    "for i in range(len(us)):    \n",
    "    gus.append(gs[i]-us[i])\n",
    "    grs.append(gs[i]-rs[i])"
   ]
  },
  {
   "cell_type": "code",
   "execution_count": 66,
   "metadata": {},
   "outputs": [],
   "source": [
    "bins=np.linspace(-5,1,51)\n",
    "#bins=np.linspace(-5,1,np.sqrt(len(gue)))\n"
   ]
  },
  {
   "cell_type": "code",
   "execution_count": 111,
   "metadata": {},
   "outputs": [
    {
     "data": {
      "text/plain": [
       "<function matplotlib.pyplot.show>"
      ]
     },
     "execution_count": 111,
     "metadata": {},
     "output_type": "execute_result"
    },
    {
     "data": {
      "image/png": "[encoded data removed]",
      "text/plain": [
       "<Figure size 432x288 with 1 Axes>"
      ]
     },
     "metadata": {
      "needs_background": "light"
     },
     "output_type": "display_data"
    }
   ],
   "source": [
    "histgue=plt.hist(gue,bins,density='True',stacked='True',color='red',alpha=.7)\n",
    "histgus=plt.hist(gus,bins,density='True',stacked='True',color='blue',alpha=.7)\n",
    "\n",
    "#----------------------->   MODELO PROPUESTO           ¿como estimar la desv ? lo hice a ojo\n",
    "plt.plot(bins,sp.norm.pdf(bins,np.median(gus),.28))   \n",
    "plt.show"
   ]
  },
  {
   "cell_type": "code",
   "execution_count": 112,
   "metadata": {},
   "outputs": [
    {
     "data": {
      "text/plain": [
       "[<matplotlib.lines.Line2D at 0x7fb0c7a80650>]"
      ]
     },
     "execution_count": 112,
     "metadata": {},
     "output_type": "execute_result"
    },
    {
     "data": {
      "image/png": "[encoded data removed]",
      "text/plain": [
       "<Figure size 432x288 with 1 Axes>"
      ]
     },
     "metadata": {
      "needs_background": "light"
     },
     "output_type": "display_data"
    }
   ],
   "source": [
    "randgue=np.random.choice(gue,100)\n",
    "randgus=np.random.choice(gus,100)\n",
    "\n",
    "randgue=np.sort(randgue)\n",
    "randgus=np.sort(randgus)\n",
    "\n",
    "v2gus=np.arange(len(randgus))/float(len(randgus))\n",
    "v2gue=np.arange(len(randgue))/float(len(randgue))\n",
    "v2gus_=np.interp(randgus,randgue,v2gue)\n",
    "\n",
    "plt.plot(randgue,v2gue,linestyle='none',marker='.',color='red')\n",
    "plt.plot(randgus,v2gus,linestyle='none',marker='.',color='blue')\n",
    "\n"
   ]
  },
  {
   "cell_type": "code",
   "execution_count": 113,
   "metadata": {},
   "outputs": [
    {
     "data": {
      "text/plain": [
       "0.4385450346420304"
      ]
     },
     "execution_count": 113,
     "metadata": {},
     "output_type": "execute_result"
    }
   ],
   "source": [
    "dist=(abs(v2gue-v2gus_))\n",
    "np.max(dist)"
   ]
  },
  {
   "cell_type": "code",
   "execution_count": 121,
   "metadata": {},
   "outputs": [
    {
     "data": {
      "text/plain": [
       "Ks_2sampResult(statistic=0.44, pvalue=3.6951229371633034e-09)"
      ]
     },
     "execution_count": 121,
     "metadata": {},
     "output_type": "execute_result"
    }
   ],
   "source": [
    "sp.ks_2samp(v2gus_,v2gue)"
   ]
  },
  {
   "cell_type": "code",
   "execution_count": null,
   "metadata": {},
   "outputs": [],
   "source": []
  },
  {
   "cell_type": "code",
   "execution_count": null,
   "metadata": {},
   "outputs": [],
   "source": [
    "\n"
   ]
  },
  {
   "cell_type": "code",
   "execution_count": 123,
   "metadata": {},
   "outputs": [
    {
     "data": {
      "text/plain": [
       "<function matplotlib.pyplot.show>"
      ]
     },
     "execution_count": 123,
     "metadata": {},
     "output_type": "execute_result"
    },
    {
     "data": {
      "image/png": "[encoded data removed]",
      "text/plain": [
       "<Figure size 432x288 with 1 Axes>"
      ]
     },
     "metadata": {
      "needs_background": "light"
     },
     "output_type": "display_data"
    }
   ],
   "source": [
    "#PARA EL FILTRO GR\n",
    "bins=np.linspace(-1,5,51)\n",
    "histgue=plt.hist(gre,bins,density='True',stacked='True',color='red',alpha=.7)\n",
    "histgus=plt.hist(grs,bins,density='True',stacked='True',color='blue',alpha=.7)\n",
    "\n",
    "#----------------------->   MODELO PROPUESTO           ¿como estimar la desv ? lo hice a ojo\n",
    "plt.plot(bins,sp.norm.pdf(bins,np.median(grs),.28))   \n",
    "plt.show"
   ]
  },
  {
   "cell_type": "code",
   "execution_count": 124,
   "metadata": {},
   "outputs": [
    {
     "data": {
      "text/plain": [
       "0.4385450346420304"
      ]
     },
     "execution_count": 124,
     "metadata": {},
     "output_type": "execute_result"
    },
    {
     "data": {
      "image/png": "[encoded data removed]",
      "text/plain": [
       "<Figure size 432x288 with 1 Axes>"
      ]
     },
     "metadata": {
      "needs_background": "light"
     },
     "output_type": "display_data"
    }
   ],
   "source": [
    "#PARA EL FILTRO GR\n",
    "randgre=np.random.choice(gre,100)\n",
    "randgrs=np.random.choice(grs,100)\n",
    "\n",
    "randgre=np.sort(randgre)\n",
    "randgrs=np.sort(randgrs)\n",
    "\n",
    "v2grs=np.arange(len(randgrs))/float(len(randgrs))\n",
    "v2gre=np.arange(len(randgre))/float(len(randgre))\n",
    "v2grs_=np.interp(randgus,randgue,v2gue)\n",
    "\n",
    "plt.plot(randgre,v2gue,linestyle='none',marker='.',color='red')\n",
    "plt.plot(randgrs,v2gus,linestyle='none',marker='.',color='blue')\n",
    "\n",
    "dist=(abs(v2gre-v2grs_))\n",
    "np.max(dist)"
   ]
  },
  {
   "cell_type": "code",
   "execution_count": 125,
   "metadata": {},
   "outputs": [
    {
     "data": {
      "text/plain": [
       "Ks_2sampResult(statistic=0.44, pvalue=3.6951229371633034e-09)"
      ]
     },
     "execution_count": 125,
     "metadata": {},
     "output_type": "execute_result"
    }
   ],
   "source": [
    "sp.ks_2samp(v2grs_,v2gre)"
   ]
  },
  {
   "cell_type": "code",
   "execution_count": null,
   "metadata": {},
   "outputs": [],
   "source": []
  },
  {
   "cell_type": "code",
   "execution_count": null,
   "metadata": {},
   "outputs": [],
   "source": []
  },
  {
   "cell_type": "code",
   "execution_count": null,
   "metadata": {},
   "outputs": [],
   "source": []
  },
  {
   "cell_type": "code",
   "execution_count": null,
   "metadata": {},
   "outputs": [],
   "source": []
  },
  {
   "cell_type": "code",
   "execution_count": null,
   "metadata": {},
   "outputs": [],
   "source": [
    "\n"
   ]
  }
 ],
 "metadata": {
  "kernelspec": {
   "display_name": "Python 2",
   "language": "python",
   "name": "python2"
  },
  "language_info": {
   "codemirror_mode": {
    "name": "ipython",
    "version": 2
   },
   "file_extension": ".py",
   "mimetype": "text/x-python",
   "name": "python",
   "nbconvert_exporter": "python",
   "pygments_lexer": "ipython2",
   "version": "2.7.15"
  }
 },
 "nbformat": 4,
 "nbformat_minor": 2
}
